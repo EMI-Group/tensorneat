{
 "cells": [
  {
   "cell_type": "code",
   "execution_count": 1,
   "id": "initial_id",
   "metadata": {
    "collapsed": true,
    "ExecuteTime": {
     "end_time": "2024-05-30T15:07:59.805322900Z",
     "start_time": "2024-05-30T15:07:57.075364700Z"
    }
   },
   "outputs": [],
   "source": [
    "import jax, jax.numpy as jnp\n",
    "from algorithm.neat.genome import *\n",
    "from algorithm.neat.gene import *\n",
    "\n",
    "jnp.set_printoptions(precision=2, linewidth=150)"
   ]
  },
  {
   "cell_type": "code",
   "execution_count": 2,
   "outputs": [],
   "source": [
    "# genome = DefaultGenome(num_inputs=3, num_outputs=2, max_nodes=10, max_conns=10)\n",
    "# state = genome.setup()\n",
    "# randkey = jax.random.key(0)\n",
    "# genome_key, input_key = jax.random.split(randkey)\n",
    "# nodes, conns = genome.initialize(state, genome_key)\n",
    "# inputs = jax.random.normal(input_key, (10, 3)) * 2 + 1  # std: 2, mean: 1\n",
    "# print(nodes, conns, sep='\\n')\n",
    "# print(inputs)"
   ],
   "metadata": {
    "collapsed": false,
    "ExecuteTime": {
     "end_time": "2024-05-30T15:07:59.817325200Z",
     "start_time": "2024-05-30T15:07:59.809324300Z"
    }
   },
   "id": "c81fa2df52f01d93"
  },
  {
   "cell_type": "code",
   "execution_count": 3,
   "outputs": [],
   "source": [
    "# transformed = genome.transform(state, nodes, conns)\n",
    "# batch_output = jax.vmap(genome.forward, in_axes=(None, 0, None))(state, inputs, transformed)\n",
    "# batch_output, transformed"
   ],
   "metadata": {
    "collapsed": false,
    "ExecuteTime": {
     "end_time": "2024-05-30T15:07:59.817950Z",
     "start_time": "2024-05-30T15:07:59.812323Z"
    }
   },
   "id": "d4b9aa0449c8d706"
  },
  {
   "cell_type": "code",
   "execution_count": 4,
   "outputs": [],
   "source": [
    "# batch_output2, new_transformed = genome.update_by_batch(state, inputs, transformed)\n",
    "# batch_output2, new_transformed"
   ],
   "metadata": {
    "collapsed": false,
    "ExecuteTime": {
     "end_time": "2024-05-30T15:07:59.831323800Z",
     "start_time": "2024-05-30T15:07:59.821324100Z"
    }
   },
   "id": "d32986470dad3229"
  },
  {
   "cell_type": "code",
   "execution_count": 5,
   "outputs": [],
   "source": [
    "# assert jnp.allclose(new_transformed[0], transformed[0], equal_nan=True)\n",
    "# assert jnp.allclose(new_transformed[1], transformed[1], equal_nan=True)\n",
    "# assert jnp.allclose(new_transformed[2], transformed[2], equal_nan=True)"
   ],
   "metadata": {
    "collapsed": false,
    "ExecuteTime": {
     "end_time": "2024-05-30T15:07:59.832325200Z",
     "start_time": "2024-05-30T15:07:59.826324400Z"
    }
   },
   "id": "3c4007dfd6770faf"
  },
  {
   "cell_type": "code",
   "execution_count": 6,
   "outputs": [
    {
     "name": "stdout",
     "output_type": "stream",
     "text": [
      "[[ 0.  0.  0.  0.  0.  1.  1.  0.]\n",
      " [ 1.  0.  0.  0.  0.  1.  1.  0.]\n",
      " [ 2.  0.  0.  0.  0.  1.  1.  0.]\n",
      " [ 3.  0.  0.  0.  0.  1.  1.  0.]\n",
      " [ 4.  0.  0.  0.  0.  1.  1.  0.]\n",
      " [ 5.  0.  0.  0.  0.  1.  1.  0.]\n",
      " [nan  0.  0.  0.  0.  1.  1.  0.]\n",
      " [nan  0.  0.  0.  0.  1.  1.  0.]\n",
      " [nan  0.  0.  0.  0.  1.  1.  0.]\n",
      " [nan  0.  0.  0.  0.  1.  1.  0.]]\n",
      "[[ 0.  5.  1.  1.]\n",
      " [ 1.  5.  1.  1.]\n",
      " [ 2.  5.  1.  1.]\n",
      " [ 5.  3.  1.  1.]\n",
      " [ 5.  4.  1.  1.]\n",
      " [nan nan nan  1.]\n",
      " [nan nan nan  1.]\n",
      " [nan nan nan  1.]\n",
      " [nan nan nan  1.]\n",
      " [nan nan nan  1.]]\n",
      "[[-1.9  -3.53  0.94]\n",
      " [ 2.92  0.06  3.44]\n",
      " [-0.9  -0.06  2.94]\n",
      " ...\n",
      " [ 2.07 -1.43  1.55]\n",
      " [ 1.93  2.85  0.19]\n",
      " [ 0.91 -0.65  1.86]]\n"
     ]
    },
    {
     "data": {
      "text/plain": "(Array([         0,          1,          2,          5,          3,          4, 2147483647, 2147483647, 2147483647, 2147483647],      dtype=int32, weak_type=True),\n Array([[ 0.,  0.,  0.,  0.,  0.,  1.,  1.,  0.],\n        [ 1.,  0.,  0.,  0.,  0.,  1.,  1.,  0.],\n        [ 2.,  0.,  0.,  0.,  0.,  1.,  1.,  0.],\n        [ 3.,  0.,  0.,  0.,  0.,  1.,  1.,  0.],\n        [ 4.,  0.,  0.,  0.,  0.,  1.,  1.,  0.],\n        [ 5.,  0.,  0.,  0.,  0.,  1.,  1.,  0.],\n        [nan,  0.,  0.,  0.,  0.,  1.,  1.,  0.],\n        [nan,  0.,  0.,  0.,  0.,  1.,  1.,  0.],\n        [nan,  0.,  0.,  0.,  0.,  1.,  1.,  0.],\n        [nan,  0.,  0.,  0.,  0.,  1.,  1.,  0.]], dtype=float32, weak_type=True),\n Array([[[nan, nan, nan, nan, nan,  1., nan, nan, nan, nan],\n         [nan, nan, nan, nan, nan,  1., nan, nan, nan, nan],\n         [nan, nan, nan, nan, nan,  1., nan, nan, nan, nan],\n         [nan, nan, nan, nan, nan, nan, nan, nan, nan, nan],\n         [nan, nan, nan, nan, nan, nan, nan, nan, nan, nan],\n         [nan, nan, nan,  1.,  1., nan, nan, nan, nan, nan],\n         [nan, nan, nan, nan, nan, nan, nan, nan, nan, nan],\n         [nan, nan, nan, nan, nan, nan, nan, nan, nan, nan],\n         [nan, nan, nan, nan, nan, nan, nan, nan, nan, nan],\n         [nan, nan, nan, nan, nan, nan, nan, nan, nan, nan]]], dtype=float32, weak_type=True))"
     },
     "execution_count": 6,
     "metadata": {},
     "output_type": "execute_result"
    }
   ],
   "source": [
    "from algorithm.neat.gene.node.normalized import NormalizedNode\n",
    "from algorithm.neat.gene.conn import DefaultConnGene\n",
    "from tensorneat.utils import ACT\n",
    "\n",
    "genome = DefaultGenome(num_inputs=3, num_outputs=2, max_nodes=10, max_conns=10,\n",
    "                       node_gene=NormalizedNode(activation_default=ACT.identity, activation_options=(ACT.identity,)),\n",
    "                       conn_gene=DefaultConnGene(weight_init_mean=1))\n",
    "state = genome.setup()\n",
    "randkey = jax.random.key(0)\n",
    "genome_key, input_key = jax.random.split(randkey)\n",
    "nodes, conns = genome.initialize(state, genome_key)\n",
    "nodes = nodes.at[:, 1:].set(genome.node_gene.new_custom_attrs(state))\n",
    "conns = conns.at[:, 3:].set(genome.conn_gene.new_custom_attrs(state))\n",
    "\n",
    "inputs = jax.random.normal(input_key, (10000, 3)) * 2 + 1  # std: 2, mean: 1\n",
    "print(nodes, conns, sep='\\n')\n",
    "print(inputs)\n",
    "transformed = genome.transform(state, nodes, conns)\n",
    "transformed"
   ],
   "metadata": {
    "collapsed": false,
    "ExecuteTime": {
     "end_time": "2024-05-30T15:08:04.532243100Z",
     "start_time": "2024-05-30T15:07:59.832325200Z"
    }
   },
   "id": "da73909c3414366e"
  },
  {
   "cell_type": "code",
   "execution_count": 7,
   "outputs": [
    {
     "data": {
      "text/plain": "Array([[-4.49, -4.49],\n       [ 6.42,  6.42],\n       [ 1.98,  1.98],\n       ...,\n       [ 2.19,  2.19],\n       [ 4.97,  4.97],\n       [ 2.12,  2.12]], dtype=float32, weak_type=True)"
     },
     "execution_count": 7,
     "metadata": {},
     "output_type": "execute_result"
    }
   ],
   "source": [
    "batch_output2 = jax.vmap(genome.forward, in_axes=(None, 0, None))(state, inputs, transformed)\n",
    "batch_output2"
   ],
   "metadata": {
    "collapsed": false,
    "ExecuteTime": {
     "end_time": "2024-05-30T15:08:04.901593900Z",
     "start_time": "2024-05-30T15:08:04.527245300Z"
    }
   },
   "id": "8ef2402bc4c7908d"
  },
  {
   "cell_type": "code",
   "execution_count": 8,
   "outputs": [
    {
     "name": "stdout",
     "output_type": "stream",
     "text": [
      "batch_z: [-4.49  6.42  1.98 ...  2.19  4.97  2.12]\n",
      "batch_z_mean: 2.9496588706970215\n",
      "batch_z: [-2.15  1.   -0.28 ... -0.22  0.58 -0.24]\n",
      "batch_z_mean: -2.1362303925798187e-08\n",
      "batch_z: [-2.15  1.   -0.28 ... -0.22  0.58 -0.24]\n",
      "batch_z_mean: -2.1362303925798187e-08\n"
     ]
    }
   ],
   "source": [
    "batch_output, new_transformed = genome.update_by_batch(state, inputs, transformed)"
   ],
   "metadata": {
    "collapsed": false,
    "ExecuteTime": {
     "end_time": "2024-05-30T15:08:05.269935400Z",
     "start_time": "2024-05-30T15:08:04.899594200Z"
    }
   },
   "id": "b3c085c7ca28f127"
  },
  {
   "cell_type": "code",
   "execution_count": 9,
   "outputs": [
    {
     "data": {
      "text/plain": "(Array([[-2.15, -2.15],\n        [ 1.  ,  1.  ],\n        [-0.28, -0.28],\n        ...,\n        [-0.22, -0.22],\n        [ 0.58,  0.58],\n        [-0.24, -0.24]], dtype=float32, weak_type=True),\n (Array([         0,          1,          2,          5,          3,          4, 2147483647, 2147483647, 2147483647, 2147483647],      dtype=int32, weak_type=True),\n  Array([[ 0.00e+00,  0.00e+00,  0.00e+00,  0.00e+00,  0.00e+00,  1.00e+00,  1.00e+00,  0.00e+00],\n         [ 1.00e+00,  0.00e+00,  0.00e+00,  0.00e+00,  0.00e+00,  1.00e+00,  1.00e+00,  0.00e+00],\n         [ 2.00e+00,  0.00e+00,  0.00e+00,  0.00e+00,  0.00e+00,  1.00e+00,  1.00e+00,  0.00e+00],\n         [ 3.00e+00,  0.00e+00,  0.00e+00,  0.00e+00, -2.14e-08,  1.00e+00,  1.00e+00,  0.00e+00],\n         [ 4.00e+00,  0.00e+00,  0.00e+00,  0.00e+00, -2.14e-08,  1.00e+00,  1.00e+00,  0.00e+00],\n         [ 5.00e+00,  0.00e+00,  0.00e+00,  0.00e+00,  2.95e+00,  3.46e+00,  1.00e+00,  0.00e+00],\n         [      nan,  0.00e+00,  0.00e+00,  0.00e+00,  0.00e+00,  1.00e+00,  1.00e+00,  0.00e+00],\n         [      nan,  0.00e+00,  0.00e+00,  0.00e+00,  0.00e+00,  1.00e+00,  1.00e+00,  0.00e+00],\n         [      nan,  0.00e+00,  0.00e+00,  0.00e+00,  0.00e+00,  1.00e+00,  1.00e+00,  0.00e+00],\n         [      nan,  0.00e+00,  0.00e+00,  0.00e+00,  0.00e+00,  1.00e+00,  1.00e+00,  0.00e+00]], dtype=float32, weak_type=True),\n  Array([[[nan, nan, nan, nan, nan,  1., nan, nan, nan, nan],\n          [nan, nan, nan, nan, nan,  1., nan, nan, nan, nan],\n          [nan, nan, nan, nan, nan,  1., nan, nan, nan, nan],\n          [nan, nan, nan, nan, nan, nan, nan, nan, nan, nan],\n          [nan, nan, nan, nan, nan, nan, nan, nan, nan, nan],\n          [nan, nan, nan,  1.,  1., nan, nan, nan, nan, nan],\n          [nan, nan, nan, nan, nan, nan, nan, nan, nan, nan],\n          [nan, nan, nan, nan, nan, nan, nan, nan, nan, nan],\n          [nan, nan, nan, nan, nan, nan, nan, nan, nan, nan],\n          [nan, nan, nan, nan, nan, nan, nan, nan, nan, nan]]], dtype=float32, weak_type=True)))"
     },
     "execution_count": 9,
     "metadata": {},
     "output_type": "execute_result"
    }
   ],
   "source": [
    "batch_output, new_transformed"
   ],
   "metadata": {
    "collapsed": false,
    "ExecuteTime": {
     "end_time": "2024-05-30T15:08:05.270935800Z",
     "start_time": "2024-05-30T15:08:05.261936200Z"
    }
   },
   "id": "60ce6747ebd95e10"
  },
  {
   "cell_type": "code",
   "execution_count": 10,
   "outputs": [
    {
     "data": {
      "text/plain": "Array([[-2.15, -2.15],\n       [ 1.  ,  1.  ],\n       [-0.28, -0.28],\n       ...,\n       [-0.22, -0.22],\n       [ 0.58,  0.58],\n       [-0.24, -0.24]], dtype=float32, weak_type=True)"
     },
     "execution_count": 10,
     "metadata": {},
     "output_type": "execute_result"
    }
   ],
   "source": [
    "batch_output2 = jax.vmap(genome.forward, in_axes=(None, 0, None))(state, inputs, new_transformed)\n",
    "batch_output2"
   ],
   "metadata": {
    "collapsed": false,
    "ExecuteTime": {
     "end_time": "2024-05-30T15:08:05.415934Z",
     "start_time": "2024-05-30T15:08:05.269935400Z"
    }
   },
   "id": "7b092224d8f33b7"
  },
  {
   "cell_type": "code",
   "execution_count": 10,
   "outputs": [],
   "source": [],
   "metadata": {
    "collapsed": false,
    "ExecuteTime": {
     "end_time": "2024-05-30T15:08:05.416935400Z",
     "start_time": "2024-05-30T15:08:05.405934300Z"
    }
   },
   "id": "eec974242eb3867e"
  }
 ],
 "metadata": {
  "kernelspec": {
   "display_name": "Python 3",
   "language": "python",
   "name": "python3"
  },
  "language_info": {
   "codemirror_mode": {
    "name": "ipython",
    "version": 2
   },
   "file_extension": ".py",
   "mimetype": "text/x-python",
   "name": "python",
   "nbconvert_exporter": "python",
   "pygments_lexer": "ipython2",
   "version": "2.7.6"
  }
 },
 "nbformat": 4,
 "nbformat_minor": 5
}
